{
  "cells": [
    {
      "cell_type": "markdown",
      "metadata": {
        "id": "view-in-github",
        "colab_type": "text"
      },
      "source": [
        "<a href=\"https://colab.research.google.com/github/alamshorna/ml_training/blob/main/1_Pytorch_Introduction.ipynb\" target=\"_parent\"><img src=\"https://colab.research.google.com/assets/colab-badge.svg\" alt=\"Open In Colab\"/></a>"
      ]
    },
    {
      "cell_type": "markdown",
      "metadata": {
        "id": "X1vaqlsdgiwB"
      },
      "source": [
        "How to Read Pytorch\n",
        "===================\n",
        "\n",
        "These five python notebooks are an introduction to core pytorch idioms.\n",
        "\n",
        "Pytorch is a numerical library that makes it very convenient to train deep networks on GPU hardware. It introduces a new programming vocabulary that takes a few steps beyond regular numerical python code. Although pytorch code can look simple and concrete, much of of the subtlety of what happens is invisible, so when working with pytorch code it helps to thoroughly understand the runtime model.\n",
        "\n",
        "For example, consider this code:\n",
        "\n",
        "```\n",
        "torch.nn.cross_entropy(model(images.cuda()), labels.cuda()).backward()\n",
        "optimizer.step()\n",
        "```\n",
        "\n",
        "It looks like it computes some function of `images` and `labels` without storing the answer.  But actually the purpose of this code is to update some hidden parameters that are not explicit in this formula.  This line of code moves batches of image and label data from CPU to the GPU; runs a neural network to make a prediction; constructs a computation graph describing how the loss depends on the network parameters; annotates every network parameter with a gradient; then finally it runs one step of optimization to adjust every parameter of the model.  During all this, the CPU does not see any of the actual answers.  That is intentional for speed reasons.  All the numerical computation is done on the GPU asynchronously and kept there.\n",
        "\n",
        "The berevity of the code is what makes pytorch code fun to write.  But it also reflects why pytorch can be so fast even though the python interpreter is so slow. Although the main python logic slogs along sequentially in a single very slow CPU thread, just a few python instructions can load a huge amount of work into the GPU.  That means the program can keep the GPU busy churning through massive numerical computations, for most part, without waiting for the python interpreter.\n",
        "\n",
        "Is is worth understanding five core idioms that work together to make this possible.  This tutorial has five Colab notebooks, one for each topic:\n",
        "\n",
        " 1. GPU Tensor arithmetic ([this notebook on colab](https://colab.research.google.com/github/davidbau/how-to-read-pytorch/blob/master/notebooks/1-Pytorch-Introduction.ipynb)): the notation for manipulating n-dimensional arrays of numbers on CPU or GPU.\n",
        " 2. [Autograd](./2-Pytorch-Autograd.ipynb): how to build a tensor computation graph and use it to get derivatives of any scalar with respect to any input.\n",
        " 3. [Optimization](./3-Pytorch-Optimizers.ipynb): ways to update tensor parameters to reduce any computed objective, using autograd gradients.\n",
        " 4. [Network modules](./4-Pytorch-Modules.ipynb): how pytorch represents neural networks for convenient composition, training, and saving.\n",
        " 5. [Datasets and Dataloaders](./5-Pytorch-Dataloader.ipynb): for efficient multithreaded prefetching of large streams of data.\n",
        "\n",
        "The key ideas are illustrated with small, illustrated, hackable examples, and there are links to other reference material and resources.\n",
        "\n",
        "All the notebooks can be run on Google Colab where some GPU compuation can be used for free, or they can be run on your own local Jupyter notebook server.\n",
        "\n",
        "The examples should all work with python 3.5 or newer and pytorch 1.0 or newer.\n",
        "\n",
        "The original [code on github can be found here](https://github.com/davidbau/how-to-read-pytorch).\n",
        "\n",
        "--- [*David Bau, July 2020*](http://davidbau.com/archives/2020/07/05/davids_tips_on_how_to_read_pytorch.html)"
      ]
    },
    {
      "cell_type": "markdown",
      "metadata": {
        "id": "w3UZCAnxgiwD"
      },
      "source": [
        "Topic 1: pytorch Tensors\n",
        "===============\n",
        "\n",
        "The first big trick for doing math fast on a modern computer is to do giant array operations all at once.\n",
        "\n",
        "To faciliate this, pytorch provides a [`torch.Tensor`](https://pytorch.org/docs/stable/tensors.html) class that is a lookalike to the older python numerical library [`numpy.ndarray`](https://numpy.org/doc/1.18/reference/arrays.ndarray.html).  Just like a numpy `ndarray`, the pytorch `Tensor` stores a d-dimensional array of numbers, where d can be zero or more, and where the contained numbers can be any of the usual selection of float or integer types.  Pytorch is designed to feel just like numpy: almost all the numpy operations are also available on torch tensors. But if something is missing, torch tensors can be directly converted to and from numpy using `x.numpy()` and `torch.from_numpy(a)`. So what is different and why did the pytorch authors bother to reimplement this whole library?\n",
        "\n",
        "**There are two things that pytorch Tensors have that numpy arrays lack:**\n",
        "\n",
        " 1. pytorch Tensors can live on either **GPU or CPU** (numpy is cpu-only).\n",
        " 2. pytorch can automatically track tensor computations to enable **automatic differentiation**.\n",
        "\n",
        "In the following sections on this page we talk about the basics of the Tensor API as well as point (1) - how to work with GPU and CPU tensors.  A discussion of (2) can be found in the next notebook, [2. Autograd](https://colab.research.google.com/github/davidbau/pytorch-tutorial/blob/master/notebooks/2-Pytorch-Autograd.ipynb).\n"
      ]
    },
    {
      "cell_type": "markdown",
      "metadata": {
        "id": "65XW33PAgiwE"
      },
      "source": [
        "Basic operations in the Tensor API\n",
        "----------------------------------\n",
        "\n",
        "Pytorch is not very different from numpy, although the pytorch API has more convenience methods such as `x.clamp(0).pow(2)` (supporting a chained method style, as is popular in Javascript libraries, so you don't need to say the verbose `numpy.clip(numpy.pow(x, 2), 0)`). So code is often shorter in pytorch.  A brief overview:\n",
        "\n",
        "**Elementwise operations.** Most tensor operations are simple (embarassingly parallelizable) elementwise operations, where the same math is done on every element of the array.  `x+y`, `x*y`, `x.abs()`, `x.pow(3)`, etc.  Unlike Matlab, `*` is for element-wise multiplication, not matrix-multiplication.\n",
        "\n",
        "**Copy semantics by default.** Almost all operations, including things like `x.sort()`, return a new copy of the tensor without overwriting the input tensors.  The exceptions are functions that end in an underscore such as `x.mul_(2)` which doubles the contents of x in-place.\n",
        "\n",
        "**Common reduction operations.**  There are some common operations such as `max`, `min`, `mean`, `sum` that reduce the array by one or more dimension. In pytorch, you can specify which dimension you want to reduce by passing the argument `dim=n`.\n",
        "\n",
        "**Why does min return two things?** Note that `[data, indexes] = x.sort(dim=0)` and `[vals, indexes] = x.min(dim=0)` return the pair of both the answer and the index values, so you do not need to separately recompute `argsort` or `argmin` when you need to know where the min came from.\n",
        "\n",
        "**What about linear algebra?** It's there.  `torch.mm(a,b)` is matrix multiplication, `torch.inverse(a)` inverts, `torch.eig(a)` gets eigenvalues, etc.\n",
        "\n",
        "The other thing to know is that pytorch tends to be very fast, often much faster than numpy even on CPU, because its implementation is aggressively parallelized behind-the-scenes.  Pytorch is willing to use multiple threads in situations where numpy just uses one.\n",
        "\n",
        "See the [reference for Tensor methods](https://pytorch.org/docs/stable/tensors.html#torch.Tensor) for what comes built-in.  A simple demo of some vectors:\n",
        "\n"
      ]
    },
    {
      "cell_type": "code",
      "execution_count": null,
      "metadata": {
        "id": "oJ_g9S1CgiwE",
        "outputId": "837a77b5-2949-4b84-b7ce-078ae7821807",
        "colab": {
          "base_uri": "https://localhost:8080/"
        }
      },
      "outputs": [
        {
          "output_type": "stream",
          "name": "stdout",
          "text": [
            "tensor([0.0000, 0.0500, 0.1000, 0.1500, 0.2000])\n"
          ]
        }
      ],
      "source": [
        "import math, numpy, torch\n",
        "from matplotlib import pyplot as plt\n",
        "\n",
        "# Make a vector of 101 equally spaced numbers from 0 to 5.\n",
        "x = torch.linspace(0, 5, 101)\n",
        "\n",
        "# Print the first five things in x.\n",
        "print(x[:5])"
      ]
    },
    {
      "cell_type": "markdown",
      "metadata": {
        "id": "3O2p7XjqgiwF"
      },
      "source": [
        "### Exercise\n",
        "\n",
        "Print the last five things in x."
      ]
    },
    {
      "cell_type": "code",
      "execution_count": null,
      "metadata": {
        "id": "ZFrdKAhLgiwF",
        "outputId": "6f18955c-a309-423f-da98-75125b6ab7f7",
        "colab": {
          "base_uri": "https://localhost:8080/"
        }
      },
      "outputs": [
        {
          "output_type": "stream",
          "name": "stdout",
          "text": [
            "tensor([4.8000, 4.8500, 4.9000, 4.9500, 5.0000])\n"
          ]
        }
      ],
      "source": [
        "# TODO: Print the last five things in x (instead of the first five)\n",
        "print(x[-5:])"
      ]
    },
    {
      "cell_type": "code",
      "execution_count": null,
      "metadata": {
        "id": "hul4VEMjgiwG",
        "outputId": "555c69c6-dd08-4a43-d942-2d22dbf18787",
        "colab": {
          "base_uri": "https://localhost:8080/",
          "height": 511
        }
      },
      "outputs": [
        {
          "output_type": "stream",
          "name": "stdout",
          "text": [
            "The shape of x is torch.Size([101])\n",
            "The shape of y1=x.sin() is torch.Size([101])\n",
            "The shape of y2=x ** x.cos() is torch.Size([101])\n",
            "The shape of y3=y2 - y1 is torch.Size([101])\n",
            "The shape of y4=y3.min() is torch.Size([]), a zero-d scalar\n"
          ]
        },
        {
          "output_type": "display_data",
          "data": {
            "text/plain": [
              "<Figure size 640x480 with 1 Axes>"
            ],
            "image/png": "[encoded data removed]"
          },
          "metadata": {}
        }
      ],
      "source": [
        "# Do some vector computations.\n",
        "y1, y2 = x.sin(), x ** x.cos()\n",
        "y3 = y2 - y1\n",
        "y4 = y3.min()\n",
        "\n",
        "# Print and plot some answers.\n",
        "print(f'The shape of x is {x.shape}')\n",
        "print(f'The shape of y1=x.sin() is {y1.shape}')\n",
        "print(f'The shape of y2=x ** x.cos() is {y2.shape}')\n",
        "print(f'The shape of y3=y2 - y1 is {y3.shape}')\n",
        "print(f'The shape of y4=y3.min() is {y4.shape}, a zero-d scalar')\n",
        "\n",
        "plt.plot(x, y1, 'red', x, y2, 'blue', x, y3, 'green')\n",
        "plt.axhline(y4, color='green', linestyle='--')\n",
        "plt.show()"
      ]
    },
    {
      "cell_type": "markdown",
      "metadata": {
        "id": "TZ05aY6DgiwG"
      },
      "source": [
        "### Exercise\n",
        "\n",
        "Plot y3 clamped between 0.0 and 1.0."
      ]
    },
    {
      "cell_type": "code",
      "execution_count": null,
      "metadata": {
        "id": "2pJvq843giwG",
        "outputId": "d0d9da60-12b3-453e-9105-0fc94fd24e70",
        "colab": {
          "base_uri": "https://localhost:8080/",
          "height": 429
        }
      },
      "outputs": [
        {
          "output_type": "display_data",
          "data": {
            "text/plain": [
              "<Figure size 640x480 with 1 Axes>"
            ],
            "image/png": "[encoded data removed]"
          },
          "metadata": {}
        }
      ],
      "source": [
        "# TODO: Plot y3 clamped between 0.0 and 1.0.\n",
        "\n",
        "plt.plot(torch.clamp(y3, 0.0, 1.0))\n",
        "plt.show()\n"
      ]
    },
    {
      "cell_type": "markdown",
      "metadata": {
        "id": "A47g_ZV-giwG"
      },
      "source": [
        "Subscripts and multiple dimensions\n",
        "----------------------------------\n",
        "\n",
        "Pytorch code is full of multidimensional arrays.  The key to reading this kind of code is stopping to think about the careful, sometimes tangled, use of multiple array subscripts.\n",
        "\n",
        "**Slicing.** As normal in python, you can use `[min:max:stride]` to slice ranges, and multidimensional subscripts like `x[2,0,1,9]` work as you would expect (selecting the 9th entry of the of the 1st of the 0th of the 2nd entry of `x`; and can be used with slices like `x[0:3,2,:,:]`.  The special slice `:` selects the whole range in that dimension.\n",
        "\n",
        "**Unsqueezing to add a dimension, and broadcasting.** While a single integer subscript like `x[0]` eliminates a dimension, the special subscript `x[None]` does the reverse and adds an extra dimension of size one.\n",
        "\n",
        "An extra dimension of size one is more useful than you might imagine, because pytorch (similar to numpy) can combine different-shaped arrays as long as the shape differences appear only on dimensions of size one by **broadcasting** the singleton dimensions.  An example that uses broadcasting to calculate an outer product is illustrated below.\n",
        "\n",
        "**Fancy indexing.** Lots more can be done by passing numerical arrays or boolean array masks as subscripts.  The reshuffling possibilities can get quite intricate; the rules are modeled on the capabilties in numpy.  For details see [Numpy fancy indexing](https://numpy.org/doc/stable/user/basics.indexing.html).\n",
        "\n",
        "Here is a demonstration of simple tensor reshaping."
      ]
    },
    {
      "cell_type": "code",
      "execution_count": null,
      "metadata": {
        "id": "_kh6HVnUgiwG",
        "outputId": "db6cb582-a565-40b1-adcc-141aabe289cc",
        "colab": {
          "base_uri": "https://localhost:8080/",
          "height": 690
        }
      },
      "outputs": [
        {
          "output_type": "stream",
          "name": "stdout",
          "text": [
            "m is tensor([[1.6451, 0.8257, 0.2007, 0.3163, 0.5194],\n",
            "        [1.5123, 0.3123, 0.9155, 0.1902, 0.0490]]), and m[1,2] is 0.9154713153839111\n",
            "\n",
            "column zero, m[:,0] is tensor([1.6451, 1.5123])\n",
            "row zero m[0,:] is tensor([1.6451, 0.8257, 0.2007, 0.3163, 0.5194])\n",
            "\n",
            "The dot product of rows (m[0,:] * m[1,:]).sum() is 3.01507568359375\n",
            "\n",
            "The outer product of rows m[0,:][None,:] * m[1,:][:,None] is:\n",
            "tensor([[2.4878, 1.2487, 0.3035, 0.4783, 0.7854],\n",
            "        [0.5139, 0.2579, 0.0627, 0.0988, 0.1622],\n",
            "        [1.5061, 0.7559, 0.1837, 0.2895, 0.4755],\n",
            "        [0.3129, 0.1571, 0.0382, 0.0602, 0.0988],\n",
            "        [0.0805, 0.0404, 0.0098, 0.0155, 0.0254]])\n"
          ]
        },
        {
          "output_type": "display_data",
          "data": {
            "text/plain": [
              "<Figure size 500x500 with 4 Axes>"
            ],
            "image/png": "[encoded data removed]"
          },
          "metadata": {}
        }
      ],
      "source": [
        "import torch\n",
        "from matplotlib import pyplot as plt\n",
        "\n",
        "# Make an array of normally distributed randoms.\n",
        "m = torch.randn(2, 5).abs()\n",
        "print(f'm is {m}, and m[1,2] is {m[1,2]}\\n')\n",
        "print(f'column zero, m[:,0] is {m[:,0]}')\n",
        "print(f'row zero m[0,:] is {m[0,:]}\\n')\n",
        "dot_product = (m[0,:] * m[1,:]).sum()\n",
        "print(f'The dot product of rows (m[0,:] * m[1,:]).sum() is {dot_product}\\n')\n",
        "outer_product = m[0,:][None,:] * m[1,:][:,None]\n",
        "print(f'The outer product of rows m[0,:][None,:] * m[1,:][:,None] is:\\n{outer_product}')\n",
        "\n",
        "fig, ((ax1, ax2), (ax3, ax4)) = plt.subplots(2, 2, figsize=(5, 5), dpi=100)\n",
        "def color_mat(ax, m, title):\n",
        "    ax.set_title(title)\n",
        "    ax.imshow(m, cmap='hot', vmax=1.5, interpolation='nearest')\n",
        "    ax.get_xaxis().set_ticks(range(m.shape[1]))\n",
        "    ax.get_yaxis().set_ticks(range(m.shape[0]))\n",
        "color_mat(ax1, m, 'm[:,:]')\n",
        "color_mat(ax2, m[0,:][None,:], 'm[0,:][None,:]')\n",
        "color_mat(ax3, m[1,:][:,None], 'm[1,:][:,None]')\n",
        "color_mat(ax4, outer_product, 'm[0,:][None,:] * m[1,:][:,None]')\n",
        "fig.tight_layout()\n",
        "fig.show()"
      ]
    },
    {
      "cell_type": "markdown",
      "metadata": {
        "id": "BRtXoxecgiwH"
      },
      "source": [
        "### Exercise\n",
        "\n",
        "Use `torch.mm` to compute `outer_product` and `dot_product`.\n",
        "\n",
        "Explain to yourself why order matters when using torch.mm but not when using `*`."
      ]
    },
    {
      "cell_type": "code",
      "execution_count": null,
      "metadata": {
        "id": "rAl-ns4sgiwH",
        "outputId": "ebf14e83-a9b8-458e-9653-b01a675f5209",
        "colab": {
          "base_uri": "https://localhost:8080/"
        }
      },
      "outputs": [
        {
          "output_type": "stream",
          "name": "stdout",
          "text": [
            "tensor([[True, True, True, True, True],\n",
            "        [True, True, True, True, True],\n",
            "        [True, True, True, True, True],\n",
            "        [True, True, True, True, True],\n",
            "        [True, True, True, True, True]])\n",
            "tensor(True)\n"
          ]
        }
      ],
      "source": [
        "# m[1,:] is a row of length n, as is m[0,:]\n",
        "# when using .mm, we're performing a normal matrix multiple (in which order matters!)\n",
        "# to do the outer product, we need to multiply [n, 1] x [1, n]\n",
        "# to do the dot product, we need to multiple [1, n] x [n, 1]\n",
        "\n",
        "outer = m[1,:][:,None].mm(m[0,:][None,:])\n",
        "print(outer == outer_product)\n",
        "dot = m[0,:][None,:].mm(m[1,:][:,None]).sum()\n",
        "print(dot == dot_product)"
      ]
    },
    {
      "cell_type": "markdown",
      "metadata": {
        "id": "Hr5FgtYsgiwH"
      },
      "source": [
        "Devices and types\n",
        "-----------------\n",
        "\n",
        "One of the big reasons to use pytorch instead of numpy is that pytorch can do computations on the GPU.  But because moving data on and off of a GPU device is more expensive than keeping it within the device, pytorch treats a Tensor's **computing device** as pseudo-type that requires explicit declaration and explicit conversion.  Here are some things to know about pytorch devices and types:\n",
        "\n",
        "**Single precision CPU default.** By default a torch tensor will be stored on the CPU and will store single-precision 32-bit `torch.float` values.\n",
        "\n",
        "**Specifying data type.** To store a different data type such as integers, use the argument `dtype=torch.long` when you create the Tensor.  For example, `z = torch.zeros(10, dtype=torch.long)`.  This is similar to numpy with minor differences.  See the [Tensor reference](https://pytorch.org/docs/stable/tensors.html) for all the types.\n",
        "\n",
        "**Specifying GPU.** To store the tensor on the GPU, specify `device='cuda'` when you make it, for example `identity_matrix = torch.eye(5, device='cuda')`.  (Instead `device='cpu'` indicates the default CPU storage).\n",
        "\n",
        "Even on a multi-GPU machine it is fine to pretend there is only one GPU.  Setting the environment variable `CUDA_VISIBLE_DEVICES=3` before you start the program will set up the process to see GPU\\#3 as the only visible GPU when it runs.\n",
        "\n",
        "As an aside, in principle you could instead target one of many GPUs with `device='cuda:3'`, but if you want to use multiple GPUs for the same computation your best bet is to a use a multiprocess utility class that manages data distribution between forked processes automatically, while each python process touches only one GPU.  When this becomes an issue, read the [DistributedDataParalllel docs](https://pytorch.org/docs/stable/distributed.html).\n",
        "\n",
        "**Copying a tensor to a different device or type.** You cannot directly combine tensors that are on different devices (e.g., GPU vs CPU or different GPUs); this is similar to how most different-data-type combinations are also prohibited. In both cases you will need to convert types and move devices explicitly to make tensors compatible before combining them.  The `x.to(y.device)` or `x.to(y.dtype)` function can be used to do the conversion.\n",
        "\n",
        "There are also commonly-used convenience synonyms `x.cpu()`, `x.cuda()`, `x.float()`, `x.long()`, etc. for making a copy of `x` with the specified device or type.  There is a bit of cost, so move data only when needed.\n",
        "\n",
        "**GPU rounding is nondeterministic.** Computationally the GPU is **not** perfectly equivalent to the CPU.  To speed parallelization, the GPU does not do associative operations such as summations in a deterministic sequential order.  Since changing the order of summations can alter rounding behavior in fixed-precision arithmetic, GPU rounding can be  different from CPU results an even nondeterministic.  When the numerical algorithm is well-behaved, the difference should be small enough that you do not care, but you should know it is different. You can see this gap in the code example below.\n",
        "\n",
        "**float is fastest.** All commodity GPU hardware is fast at single-precision 32-bit floating-point math, about 20x CPU speed.  Be aware that only expensive cards are fast at 64-bit double-precision math. If you change `torch.float` in the below example to `torch.double` on an Nvidia Titan or consumer card without hardware double-precision support, you will slow down to just-slightly-faster-than-CPU speeds.  Similarly 16-bit `torch.half` or `torch.bfloat16` or other cool options will only be faster on newer hardware, and with these data types you need to take care that the reduced precision is not damaging your results.\n",
        "\n",
        "So `float` is the default and usually the best.\n",
        "\n",
        "Also note that some operations (like linear algebra) are floating-point only and cannot be done on integers.\n",
        "\n",
        "An example of some CPU versus GPU speed comparisons is below."
      ]
    },
    {
      "cell_type": "code",
      "execution_count": null,
      "metadata": {
        "id": "3A9hLAp2giwH",
        "outputId": "f9dff4de-adec-4912-d6f5-1a223c054c9f",
        "colab": {
          "base_uri": "https://localhost:8080/",
          "height": 427
        }
      },
      "outputs": [
        {
          "output_type": "stream",
          "name": "stdout",
          "text": [
            "time using the CPU alone: 7.63 seconds\n",
            "time using GPU, moving data from CPU: 0.481 seconds\n",
            "time using GPU on pinned CPU memory: 0.239 seconds\n",
            "time using the GPU alone: 0.153 seconds\n"
          ]
        },
        {
          "output_type": "display_data",
          "data": {
            "text/plain": [
              "<Figure size 600x300 with 1 Axes>"
            ],
            "image/png": "[encoded data removed]"
          },
          "metadata": {}
        },
        {
          "output_type": "stream",
          "name": "stdout",
          "text": [
            "Your GPU is 49.7x faster than CPU but only 15.9x if data is repeatedly copied from the CPU\n",
            "When copying from pinned memory, speedup is 31.9x\n",
            "Numerical differences between GPU and CPU: 5.846877115800453e-07\n"
          ]
        }
      ],
      "source": [
        "import torch, time\n",
        "from matplotlib import pyplot as plt\n",
        "\n",
        "# Here is a demonstration of moving data between GPU and CPU.\n",
        "# We multiply a batch of vectors through a big linear operation 10 times\n",
        "r = torch.randn(1024, 1024, dtype=torch.float)\n",
        "x = torch.randn(32768, 1024, dtype=r.dtype)\n",
        "iterations = 10\n",
        "\n",
        "def time_iterated_mm(x, matrix):\n",
        "    start = time.time()\n",
        "    result = 0\n",
        "    for i in range(iterations):\n",
        "        result += torch.mm(matrix, x.to(matrix.device).t())\n",
        "    torch.cuda.synchronize()\n",
        "    elapsed = time.time() - start\n",
        "    return elapsed, result.cpu()\n",
        "\n",
        "cpu_time, cpu_result = time_iterated_mm(x.cpu(), r.cpu())\n",
        "print(f'time using the CPU alone: {cpu_time:.3g} seconds')\n",
        "\n",
        "mixed_time, mixed_result = time_iterated_mm(x.cpu(), r.cuda())\n",
        "print(f'time using GPU, moving data from CPU: {mixed_time:.3g} seconds')\n",
        "\n",
        "pinned_time, pinned_result = time_iterated_mm(x.cpu().pin_memory(), r.cuda())\n",
        "print(f'time using GPU on pinned CPU memory: {pinned_time:.3g} seconds')\n",
        "\n",
        "gpu_time, gpu_result = time_iterated_mm(x.cuda(), r.cuda())\n",
        "print(f'time using the GPU alone: {gpu_time:.3g} seconds')\n",
        "\n",
        "plt.figure(figsize=(4,2), dpi=150)\n",
        "plt.ylabel('iterations per sec')\n",
        "plt.bar(['cpu', 'mixed', 'pinned', 'gpu'],\n",
        "        [iterations/cpu_time,\n",
        "         iterations/mixed_time,\n",
        "         iterations/pinned_time,\n",
        "         iterations/gpu_time])\n",
        "plt.show()\n",
        "\n",
        "print(f'Your GPU is {cpu_time / gpu_time:.3g}x faster than CPU'\n",
        "      f' but only {cpu_time / mixed_time:.3g}x if data is repeatedly copied from the CPU')\n",
        "print(f'When copying from pinned memory, speedup is {cpu_time / pinned_time:.3g}x')\n",
        "print(f'Numerical differences between GPU and CPU: {(cpu_result - gpu_result).norm() / cpu_result.norm()}')"
      ]
    },
    {
      "cell_type": "markdown",
      "metadata": {
        "id": "jx4V76D9giwH"
      },
      "source": [
        "### Exercise\n",
        "\n",
        "Repeat the benchmark using type `torch.double`.   What does that tell you about your GPU hardware?"
      ]
    },
    {
      "cell_type": "code",
      "execution_count": null,
      "metadata": {
        "id": "4wxo7l8YgiwH"
      },
      "outputs": [],
      "source": [
        "# TODO: Repeat the benchmark using type torch.double.\n",
        "r = torch.randn(1024, 1024, dtype=torch.double)\n",
        "x = torch.randn(32768, 1024, dtype=torch.double)\n",
        "\n",
        "# Benchmark and plot"
      ]
    },
    {
      "cell_type": "markdown",
      "metadata": {
        "id": "svCrUxpdgiwH"
      },
      "source": [
        "Performance tips\n",
        "----------------\n",
        "\n",
        "**GPU operations are async.** When pytorch operates on GPU tensors, the python code does not wait for computations to complete. So GPU calculations get queued up, and they will be done as quickly as possible in the background while your python is free to work on other things like loading the next batch of training data.\n",
        "\n",
        "**Moving data to cpu waits for computations.** You do not need to worry about the GPU asynchrony, because as soon as you actually ask to look at the data, e.g., when you move GPU data to CPU (or print it or save it), pytorch will block and wait for the GPU operations to finish computing what you need before proceeding. The call seen above to `torch.cuda.synchronize()` flushes the GPU queue without requesting the data, but you will not need to do this unless you are doing performance timing.\n",
        "\n",
        "**Pinned memory transfers are async and faster.** Copying data from CPU to GPU can be sped up if the CPU data is put in pinned memory (i.e., at a fixed non-swappable block of RAM).  Therefore when data loaders gather together lots of CPU data that is destined for the GPU, they should be configured to stream their results into pinned memory. See the performance comparison above."
      ]
    },
    {
      "cell_type": "markdown",
      "metadata": {
        "id": "wXqnqC2kgiwI"
      },
      "source": [
        "pytorch Tensor dimension-ordering conventions\n",
        "---------------------------------------------\n",
        "\n",
        "**Multidimensional data convention.** As soon as you have more than one dimension, you need to decide how to order the axes.  To reduce confusion, most data processing follows the same global convention. In particular, much image-related data in pytorch is four dimensional, and the dimensions are ordered like this: `data[batch_index, channel_index, y_position, x_position]`, that is:\n",
        "\n",
        "* Dimension 0 is used to index separate images within a batch.\n",
        "* Dimension 1 indexes channels within an image representation (e.g., 0,1,2 = R,G,B, or more dims for more channels).\n",
        "* Dimension 2 (if present) indexes the row position (y-value, starting from the top)\n",
        "* Dimension 3 (if present) indexes the column position (x-value, starting from the left)\n",
        "\n",
        "There a way to remember this ordering: adjacent entries that vary only in the last dimensions are stored physically closer in RAM; since they are often combined with each other, this could help with locality, whereas the first (batch) dimension usually just groups separate independent data points which are not combined much, so they do not need to be physically close.\n",
        "\n",
        "Stream-oriented data without grid geometry will drop the last dimensions, and 3d grid data will be 5-dimensional, adding a depth z before y.  This same 4d-axis ordering convention is also seen in caffe and tensorflow.\n",
        "\n",
        "Separate tensors can be put together into a single batch tensor using `torch.cat([a, b, c])` or `torch.stack([a, b, c])`.  (The difference: `cat` doesn't add any new dimensions but just concatenates along the existing 0th dimension.  `stack` adds a new 0th dimension for the batch.)\n",
        "\n",
        "**Multidimensional linear operation convention.** When storing matrix weights or convolution weights, linear algebra conventions are followed\n",
        "* Dimension 0 (number of rows) matches the output channel dimension\n",
        "* Dimension 1 (number of columns) matches the input channel dimension\n",
        "* Dimension 2 (if present) is the convolutional kernel y-dimension\n",
        "* Dimension 3 (if present) is the convolutional kernel x-dimension\n",
        "\n",
        "Since this convention assumes channels are arranged in different rows whereas the data convention puts different batch items in different rows, some axis transposition is often needed before applying linear algebra to the data.\n",
        "\n",
        "**Permute and view reshape an array without moving memory.** The `permute` and `view` methods are useful for rearranging, flattening, and unflatteneing axes. `x.permute(1,0,2,3).view(x.shape[1], -1)`.  They just alter the view of the block of numbers in memory without moving any of the numbers around, so they are fast.\n",
        "\n",
        "**Reshaping sometimes needs copying.** Some sequences of axis permutations and flattenings cannot be done without copying the data into the new order in memory; the `x.contiguous()` method copies the data iinto the natural order given by the current view; also `x.reshape()` is similar to `view` but will makea copy if necessary so you do not need to think about it.  See [the Tensor.view method documentation](https://pytorch.org/docs/master/tensors.html#torch.Tensor.view).\n"
      ]
    },
    {
      "cell_type": "markdown",
      "metadata": {
        "id": "mHa-CeE6giwI"
      },
      "source": [
        "### Exercise\n",
        "\n",
        "Use `torch.randn` to create a four-dimensional tensor `x` of size (2,3,4,5), which could store two 5x4 RGB images.\n",
        "\n",
        "Then print three things:\n",
        " * print `x`.\n",
        " * Use `x.permute` to switch the horizontal and vertical (last two) dimensions.\n",
        " * Use `x.view` to see each image as a flat vector of 60 numbers."
      ]
    },
    {
      "cell_type": "code",
      "execution_count": null,
      "metadata": {
        "id": "5KQh0v6egiwI",
        "outputId": "5e76ac36-a89a-4af4-a2d6-2bc87cada7fe",
        "colab": {
          "base_uri": "https://localhost:8080/"
        }
      },
      "outputs": [
        {
          "output_type": "stream",
          "name": "stdout",
          "text": [
            "tensor([[[[0.8743, 0.0607, 0.0176, 0.4209, 0.1627],\n",
            "          [0.8525, 0.0802, 0.7590, 0.9715, 0.5423],\n",
            "          [0.1869, 0.7450, 0.6897, 0.5610, 0.0800],\n",
            "          [0.4891, 0.2777, 0.5770, 0.2071, 0.8644]],\n",
            "\n",
            "         [[0.6397, 0.5417, 0.5995, 0.7194, 0.4352],\n",
            "          [0.8464, 0.7414, 0.4729, 0.7066, 0.4503],\n",
            "          [0.8032, 0.2828, 0.7459, 0.9710, 0.6681],\n",
            "          [0.0711, 0.1261, 0.2473, 0.2372, 0.7773]],\n",
            "\n",
            "         [[0.8456, 0.5004, 0.8139, 0.8833, 0.1792],\n",
            "          [0.6084, 0.5638, 0.6755, 0.2073, 0.2492],\n",
            "          [0.8194, 0.5420, 0.4131, 0.4705, 0.7283],\n",
            "          [0.3477, 0.4618, 0.7480, 0.4250, 0.1055]]],\n",
            "\n",
            "\n",
            "        [[[0.4025, 0.1686, 0.5192, 0.4211, 0.9959],\n",
            "          [0.9834, 0.6075, 0.4809, 0.8055, 0.7886],\n",
            "          [0.7237, 0.7209, 0.6994, 0.3673, 0.5548],\n",
            "          [0.3838, 0.6628, 0.7680, 0.4532, 0.0386]],\n",
            "\n",
            "         [[0.2550, 0.9479, 0.1103, 0.2221, 0.5690],\n",
            "          [0.4037, 0.7614, 0.6510, 0.2438, 0.8575],\n",
            "          [0.0089, 0.1105, 0.0401, 0.5968, 0.1150],\n",
            "          [0.8599, 0.1452, 0.4257, 0.1042, 0.9842]],\n",
            "\n",
            "         [[0.0691, 0.5341, 0.2866, 0.0080, 0.2506],\n",
            "          [0.3803, 0.0035, 0.9012, 0.7046, 0.2475],\n",
            "          [0.5824, 0.2645, 0.0443, 0.6372, 0.2177],\n",
            "          [0.3775, 0.8942, 0.1087, 0.6389, 0.7422]]]])\n",
            "tensor([[[[0.8743, 0.8525, 0.1869, 0.4891],\n",
            "          [0.0607, 0.0802, 0.7450, 0.2777],\n",
            "          [0.0176, 0.7590, 0.6897, 0.5770],\n",
            "          [0.4209, 0.9715, 0.5610, 0.2071],\n",
            "          [0.1627, 0.5423, 0.0800, 0.8644]],\n",
            "\n",
            "         [[0.6397, 0.8464, 0.8032, 0.0711],\n",
            "          [0.5417, 0.7414, 0.2828, 0.1261],\n",
            "          [0.5995, 0.4729, 0.7459, 0.2473],\n",
            "          [0.7194, 0.7066, 0.9710, 0.2372],\n",
            "          [0.4352, 0.4503, 0.6681, 0.7773]],\n",
            "\n",
            "         [[0.8456, 0.6084, 0.8194, 0.3477],\n",
            "          [0.5004, 0.5638, 0.5420, 0.4618],\n",
            "          [0.8139, 0.6755, 0.4131, 0.7480],\n",
            "          [0.8833, 0.2073, 0.4705, 0.4250],\n",
            "          [0.1792, 0.2492, 0.7283, 0.1055]]],\n",
            "\n",
            "\n",
            "        [[[0.4025, 0.9834, 0.7237, 0.3838],\n",
            "          [0.1686, 0.6075, 0.7209, 0.6628],\n",
            "          [0.5192, 0.4809, 0.6994, 0.7680],\n",
            "          [0.4211, 0.8055, 0.3673, 0.4532],\n",
            "          [0.9959, 0.7886, 0.5548, 0.0386]],\n",
            "\n",
            "         [[0.2550, 0.4037, 0.0089, 0.8599],\n",
            "          [0.9479, 0.7614, 0.1105, 0.1452],\n",
            "          [0.1103, 0.6510, 0.0401, 0.4257],\n",
            "          [0.2221, 0.2438, 0.5968, 0.1042],\n",
            "          [0.5690, 0.8575, 0.1150, 0.9842]],\n",
            "\n",
            "         [[0.0691, 0.3803, 0.5824, 0.3775],\n",
            "          [0.5341, 0.0035, 0.2645, 0.8942],\n",
            "          [0.2866, 0.9012, 0.0443, 0.1087],\n",
            "          [0.0080, 0.7046, 0.6372, 0.6389],\n",
            "          [0.2506, 0.2475, 0.2177, 0.7422]]]])\n",
            "tensor([[0.8743, 0.0607, 0.0176, 0.4209, 0.1627, 0.8525, 0.0802, 0.7590, 0.9715,\n",
            "         0.5423, 0.1869, 0.7450, 0.6897, 0.5610, 0.0800, 0.4891, 0.2777, 0.5770,\n",
            "         0.2071, 0.8644, 0.6397, 0.5417, 0.5995, 0.7194, 0.4352, 0.8464, 0.7414,\n",
            "         0.4729, 0.7066, 0.4503, 0.8032, 0.2828, 0.7459, 0.9710, 0.6681, 0.0711,\n",
            "         0.1261, 0.2473, 0.2372, 0.7773, 0.8456, 0.5004, 0.8139, 0.8833, 0.1792,\n",
            "         0.6084, 0.5638, 0.6755, 0.2073, 0.2492, 0.8194, 0.5420, 0.4131, 0.4705,\n",
            "         0.7283, 0.3477, 0.4618, 0.7480, 0.4250, 0.1055],\n",
            "        [0.4025, 0.1686, 0.5192, 0.4211, 0.9959, 0.9834, 0.6075, 0.4809, 0.8055,\n",
            "         0.7886, 0.7237, 0.7209, 0.6994, 0.3673, 0.5548, 0.3838, 0.6628, 0.7680,\n",
            "         0.4532, 0.0386, 0.2550, 0.9479, 0.1103, 0.2221, 0.5690, 0.4037, 0.7614,\n",
            "         0.6510, 0.2438, 0.8575, 0.0089, 0.1105, 0.0401, 0.5968, 0.1150, 0.8599,\n",
            "         0.1452, 0.4257, 0.1042, 0.9842, 0.0691, 0.5341, 0.2866, 0.0080, 0.2506,\n",
            "         0.3803, 0.0035, 0.9012, 0.7046, 0.2475, 0.5824, 0.2645, 0.0443, 0.6372,\n",
            "         0.2177, 0.3775, 0.8942, 0.1087, 0.6389, 0.7422]])\n"
          ]
        }
      ],
      "source": [
        "# TODO make x of size (2,3,4,5), and print three rearrangements of x\n",
        "x = torch.rand([2, 3, 4, 5])\n",
        "print(x)\n",
        "print(x.permute(0, 1, 3, 2))\n",
        "print(x.view(torch.Size([2, 60])))"
      ]
    },
    {
      "cell_type": "markdown",
      "metadata": {
        "id": "nHt7sP0ugiwI"
      },
      "source": [
        "## Special topic: einsum notation\n",
        "\n",
        "Matrix multiplication can be generalized to tensors of arbitrary number of dimensions, but keeping tensor dimensions straight can be confusing.  The solution to this is [Einstein notation](https://en.wikipedia.org/wiki/Einstein_notation): assign letter variables to each axis of the input tensors, and then explicitly write down which axes end up in the output tensor.  For example, an outer product might be written as `i, j -> ij`, whereas matrix multiplication could be `ij, jk -> ik`.\n",
        "\n",
        "Einstein notation is a topic of active development and programming language design: [here is a recent paper on the history and future of Einstein APIs.](https://openreview.net/pdf?id=oapKSVM2bcj)\n",
        "\n",
        "\n",
        "In pytorch, Einstein notation is available as `einsum`.  Here is how ordinary matrix multiplication looks as einsum:"
      ]
    },
    {
      "cell_type": "code",
      "execution_count": null,
      "metadata": {
        "id": "QvRXHLKegiwI",
        "outputId": "3673ca0d-a0ad-4792-9715-5fac2f892e9f",
        "colab": {
          "base_uri": "https://localhost:8080/"
        }
      },
      "outputs": [
        {
          "output_type": "stream",
          "name": "stdout",
          "text": [
            "tensor([[-2.3140, -0.3422, -3.6769],\n",
            "        [-3.3900, -3.1268,  0.9352]])\n",
            "tensor([[-2.3140, -0.3422, -3.6769],\n",
            "        [-3.3900, -3.1268,  0.9352]])\n"
          ]
        }
      ],
      "source": [
        "A = torch.randn(2,5)\n",
        "B = torch.randn(5,3)\n",
        "\n",
        "# Uncomment to see ordinary matrix multiplication\n",
        "print(torch.mm(A, B))\n",
        "\n",
        "# Ordinary matrix multiplication written as an einsum\n",
        "print(torch.einsum('ij, jk -> ik', A, B))"
      ]
    },
    {
      "cell_type": "markdown",
      "metadata": {
        "id": "KTgCh4yngiwI"
      },
      "source": [
        "### Exercise\n",
        "\n",
        "Make A in the shape (5, 6, 2) and B in the shape (5, 6, 3); we can think of A as a 5x6 grid of 2-dimensional vectors and B as a 5x6 of 3-dimesnsional vectors.\n",
        "\n",
        "Covariances (un-normalized) of vectors in A and B could be computed by flattening and transposing the tensors into (2,30) and (30,3) matrices and then doing a matrix multiplication of these batches as follows:\n",
        "\n",
        "```\n",
        "print(torch.mm(A.reshape(30, 2).t(), B.reshape(30, 3)))\n",
        "```\n",
        "\n",
        "Instead use einsum to compute the same thing.\n"
      ]
    },
    {
      "cell_type": "code",
      "execution_count": null,
      "metadata": {
        "id": "4_0HOQX8giwI",
        "outputId": "0c0f874e-a2c4-4396-a5cd-e8b9b0a0b565",
        "colab": {
          "base_uri": "https://localhost:8080/"
        }
      },
      "outputs": [
        {
          "output_type": "stream",
          "name": "stdout",
          "text": [
            "tensor([[-0.2545,  9.1571, -8.7117],\n",
            "        [ 6.1244, -2.4399,  2.4037]])\n"
          ]
        }
      ],
      "source": [
        "# TODO: use einsum to compute a covariance statistic over vectors in A and B.\n",
        "A = torch.randn(5,6,2)\n",
        "B = torch.randn(5,6,3)\n",
        "\n",
        "A_flat = A.view(2, -1)\n",
        "B_flat = B.view(-1, 3)\n",
        "\n",
        "covariance = torch.einsum('ij,jk->ik', A_flat, B_flat)\n",
        "\n",
        "print(covariance)"
      ]
    },
    {
      "cell_type": "markdown",
      "metadata": {
        "id": "pvjtxiuwgiwJ"
      },
      "source": [
        "### [On to topic 2: Autograd &rightarrow;](2-Pytorch-Autograd.ipynb)"
      ]
    }
  ],
  "metadata": {
    "accelerator": "GPU",
    "kernelspec": {
      "display_name": "Python 3",
      "name": "python3"
    },
    "language_info": {
      "codemirror_mode": {
        "name": "ipython",
        "version": 3
      },
      "file_extension": ".py",
      "mimetype": "text/x-python",
      "name": "python",
      "nbconvert_exporter": "python",
      "pygments_lexer": "ipython3",
      "version": "3.9.9"
    },
    "colab": {
      "provenance": [],
      "gpuType": "T4",
      "include_colab_link": true
    }
  },
  "nbformat": 4,
  "nbformat_minor": 0
}